{
 "cells": [
  {
   "cell_type": "markdown",
   "id": "91b361f2",
   "metadata": {},
   "source": [
    "> # Test submitting para el rol de data scientist junior en TusDatos.co\n",
    "***\n",
    ">## Juan Pablo Alfonso Sánchez"
   ]
  },
  {
   "cell_type": "markdown",
   "id": "bbe75deb",
   "metadata": {},
   "source": [
    "## Preparación"
   ]
  },
  {
   "cell_type": "code",
   "execution_count": 38,
   "id": "6b998502",
   "metadata": {},
   "outputs": [],
   "source": [
    "import pandas as pd\n",
    "import numpy as np\n",
    "import seaborn as sns\n",
    "import matplotlib.pyplot as plt\n",
    "import statsmodels.api as sm\n",
    "\n",
    "%matplotlib inline\n",
    "%reload_ext autoreload\n",
    "%autoreload 2\n",
    "warnings.filterwarnings('ignore')"
   ]
  },
  {
   "cell_type": "markdown",
   "id": "5f0d3714",
   "metadata": {},
   "source": [
    "## Importar datos "
   ]
  },
  {
   "cell_type": "code",
   "execution_count": 35,
   "id": "183bcd5f",
   "metadata": {
    "slideshow": {
     "slide_type": "slide"
    }
   },
   "outputs": [
    {
     "data": {
      "text/html": [
       "<div>\n",
       "<style scoped>\n",
       "    .dataframe tbody tr th:only-of-type {\n",
       "        vertical-align: middle;\n",
       "    }\n",
       "\n",
       "    .dataframe tbody tr th {\n",
       "        vertical-align: top;\n",
       "    }\n",
       "\n",
       "    .dataframe thead th {\n",
       "        text-align: right;\n",
       "    }\n",
       "</style>\n",
       "<table border=\"1\" class=\"dataframe\">\n",
       "  <thead>\n",
       "    <tr style=\"text-align: right;\">\n",
       "      <th></th>\n",
       "      <th>Ship_name</th>\n",
       "      <th>Cruise_line</th>\n",
       "      <th>Age</th>\n",
       "      <th>Tonnage</th>\n",
       "      <th>passengers</th>\n",
       "      <th>length</th>\n",
       "      <th>cabins</th>\n",
       "      <th>passenger_density</th>\n",
       "      <th>crew</th>\n",
       "    </tr>\n",
       "  </thead>\n",
       "  <tbody>\n",
       "    <tr>\n",
       "      <th>0</th>\n",
       "      <td>Journey</td>\n",
       "      <td>Azamara</td>\n",
       "      <td>6</td>\n",
       "      <td>30.277</td>\n",
       "      <td>6.94</td>\n",
       "      <td>5.94</td>\n",
       "      <td>3.55</td>\n",
       "      <td>42.64</td>\n",
       "      <td>3.55</td>\n",
       "    </tr>\n",
       "    <tr>\n",
       "      <th>1</th>\n",
       "      <td>Quest</td>\n",
       "      <td>Azamara</td>\n",
       "      <td>6</td>\n",
       "      <td>30.277</td>\n",
       "      <td>6.94</td>\n",
       "      <td>5.94</td>\n",
       "      <td>3.55</td>\n",
       "      <td>42.64</td>\n",
       "      <td>3.55</td>\n",
       "    </tr>\n",
       "    <tr>\n",
       "      <th>2</th>\n",
       "      <td>Celebration</td>\n",
       "      <td>Carnival</td>\n",
       "      <td>26</td>\n",
       "      <td>47.262</td>\n",
       "      <td>14.86</td>\n",
       "      <td>7.22</td>\n",
       "      <td>7.43</td>\n",
       "      <td>31.80</td>\n",
       "      <td>6.70</td>\n",
       "    </tr>\n",
       "    <tr>\n",
       "      <th>3</th>\n",
       "      <td>Conquest</td>\n",
       "      <td>Carnival</td>\n",
       "      <td>11</td>\n",
       "      <td>110.000</td>\n",
       "      <td>29.74</td>\n",
       "      <td>9.53</td>\n",
       "      <td>14.88</td>\n",
       "      <td>36.99</td>\n",
       "      <td>19.10</td>\n",
       "    </tr>\n",
       "    <tr>\n",
       "      <th>4</th>\n",
       "      <td>Destiny</td>\n",
       "      <td>Carnival</td>\n",
       "      <td>17</td>\n",
       "      <td>101.353</td>\n",
       "      <td>26.42</td>\n",
       "      <td>8.92</td>\n",
       "      <td>13.21</td>\n",
       "      <td>38.36</td>\n",
       "      <td>10.00</td>\n",
       "    </tr>\n",
       "  </tbody>\n",
       "</table>\n",
       "</div>"
      ],
      "text/plain": [
       "     Ship_name Cruise_line  Age  Tonnage  passengers  length  cabins  \\\n",
       "0      Journey     Azamara    6   30.277        6.94    5.94    3.55   \n",
       "1        Quest     Azamara    6   30.277        6.94    5.94    3.55   \n",
       "2  Celebration    Carnival   26   47.262       14.86    7.22    7.43   \n",
       "3     Conquest    Carnival   11  110.000       29.74    9.53   14.88   \n",
       "4      Destiny    Carnival   17  101.353       26.42    8.92   13.21   \n",
       "\n",
       "   passenger_density   crew  \n",
       "0              42.64   3.55  \n",
       "1              42.64   3.55  \n",
       "2              31.80   6.70  \n",
       "3              36.99  19.10  \n",
       "4              38.36  10.00  "
      ]
     },
     "execution_count": 35,
     "metadata": {},
     "output_type": "execute_result"
    }
   ],
   "source": [
    "df = pd.read_csv(\"https://raw.githubusercontent.com/JPalfonsos/TusDatos/main/Cruceros.csv\")\n",
    "df.head()"
   ]
  },
  {
   "cell_type": "markdown",
   "id": "be40c2bf",
   "metadata": {},
   "source": [
    "## Estadística descriptiva e Insights"
   ]
  },
  {
   "cell_type": "markdown",
   "id": "49f96061",
   "metadata": {},
   "source": [
    "En promedio los barcos comprados alojan hasta 18 pasajeros (con una varianza de 9), tienen 9 cabinas (con una varianza de 4) y tiene una tripulación de 8 personas (con una varianza de 4)"
   ]
  },
  {
   "cell_type": "code",
   "execution_count": 20,
   "id": "68a8b41c",
   "metadata": {},
   "outputs": [
    {
     "data": {
      "text/html": [
       "<div>\n",
       "<style scoped>\n",
       "    .dataframe tbody tr th:only-of-type {\n",
       "        vertical-align: middle;\n",
       "    }\n",
       "\n",
       "    .dataframe tbody tr th {\n",
       "        vertical-align: top;\n",
       "    }\n",
       "\n",
       "    .dataframe thead th {\n",
       "        text-align: right;\n",
       "    }\n",
       "</style>\n",
       "<table border=\"1\" class=\"dataframe\">\n",
       "  <thead>\n",
       "    <tr style=\"text-align: right;\">\n",
       "      <th></th>\n",
       "      <th>Age</th>\n",
       "      <th>Tonnage</th>\n",
       "      <th>passengers</th>\n",
       "      <th>length</th>\n",
       "      <th>cabins</th>\n",
       "      <th>passenger_density</th>\n",
       "      <th>crew</th>\n",
       "    </tr>\n",
       "  </thead>\n",
       "  <tbody>\n",
       "    <tr>\n",
       "      <th>count</th>\n",
       "      <td>158.000000</td>\n",
       "      <td>158.000000</td>\n",
       "      <td>158.000000</td>\n",
       "      <td>158.000000</td>\n",
       "      <td>158.000000</td>\n",
       "      <td>158.000000</td>\n",
       "      <td>158.000000</td>\n",
       "    </tr>\n",
       "    <tr>\n",
       "      <th>mean</th>\n",
       "      <td>15.689873</td>\n",
       "      <td>71.284671</td>\n",
       "      <td>18.457405</td>\n",
       "      <td>8.130633</td>\n",
       "      <td>8.830000</td>\n",
       "      <td>39.900949</td>\n",
       "      <td>7.794177</td>\n",
       "    </tr>\n",
       "    <tr>\n",
       "      <th>std</th>\n",
       "      <td>7.615691</td>\n",
       "      <td>37.229540</td>\n",
       "      <td>9.677095</td>\n",
       "      <td>1.793474</td>\n",
       "      <td>4.471417</td>\n",
       "      <td>8.639217</td>\n",
       "      <td>3.503487</td>\n",
       "    </tr>\n",
       "    <tr>\n",
       "      <th>min</th>\n",
       "      <td>4.000000</td>\n",
       "      <td>2.329000</td>\n",
       "      <td>0.660000</td>\n",
       "      <td>2.790000</td>\n",
       "      <td>0.330000</td>\n",
       "      <td>17.700000</td>\n",
       "      <td>0.590000</td>\n",
       "    </tr>\n",
       "    <tr>\n",
       "      <th>25%</th>\n",
       "      <td>10.000000</td>\n",
       "      <td>46.013000</td>\n",
       "      <td>12.535000</td>\n",
       "      <td>7.100000</td>\n",
       "      <td>6.132500</td>\n",
       "      <td>34.570000</td>\n",
       "      <td>5.480000</td>\n",
       "    </tr>\n",
       "    <tr>\n",
       "      <th>50%</th>\n",
       "      <td>14.000000</td>\n",
       "      <td>71.899000</td>\n",
       "      <td>19.500000</td>\n",
       "      <td>8.555000</td>\n",
       "      <td>9.570000</td>\n",
       "      <td>39.085000</td>\n",
       "      <td>8.150000</td>\n",
       "    </tr>\n",
       "    <tr>\n",
       "      <th>75%</th>\n",
       "      <td>20.000000</td>\n",
       "      <td>90.772500</td>\n",
       "      <td>24.845000</td>\n",
       "      <td>9.510000</td>\n",
       "      <td>10.885000</td>\n",
       "      <td>44.185000</td>\n",
       "      <td>9.990000</td>\n",
       "    </tr>\n",
       "    <tr>\n",
       "      <th>max</th>\n",
       "      <td>48.000000</td>\n",
       "      <td>220.000000</td>\n",
       "      <td>54.000000</td>\n",
       "      <td>11.820000</td>\n",
       "      <td>27.000000</td>\n",
       "      <td>71.430000</td>\n",
       "      <td>21.000000</td>\n",
       "    </tr>\n",
       "  </tbody>\n",
       "</table>\n",
       "</div>"
      ],
      "text/plain": [
       "              Age     Tonnage  passengers      length      cabins  \\\n",
       "count  158.000000  158.000000  158.000000  158.000000  158.000000   \n",
       "mean    15.689873   71.284671   18.457405    8.130633    8.830000   \n",
       "std      7.615691   37.229540    9.677095    1.793474    4.471417   \n",
       "min      4.000000    2.329000    0.660000    2.790000    0.330000   \n",
       "25%     10.000000   46.013000   12.535000    7.100000    6.132500   \n",
       "50%     14.000000   71.899000   19.500000    8.555000    9.570000   \n",
       "75%     20.000000   90.772500   24.845000    9.510000   10.885000   \n",
       "max     48.000000  220.000000   54.000000   11.820000   27.000000   \n",
       "\n",
       "       passenger_density        crew  \n",
       "count         158.000000  158.000000  \n",
       "mean           39.900949    7.794177  \n",
       "std             8.639217    3.503487  \n",
       "min            17.700000    0.590000  \n",
       "25%            34.570000    5.480000  \n",
       "50%            39.085000    8.150000  \n",
       "75%            44.185000    9.990000  \n",
       "max            71.430000   21.000000  "
      ]
     },
     "execution_count": 20,
     "metadata": {},
     "output_type": "execute_result"
    }
   ],
   "source": [
    "df.describe()"
   ]
  },
  {
   "cell_type": "markdown",
   "id": "b0515c79",
   "metadata": {},
   "source": [
    "### Insights 1: Distribución univariada"
   ]
  },
  {
   "cell_type": "markdown",
   "id": "734039fb",
   "metadata": {},
   "source": [
    "Se aprecia que la cantidad de pasajeros máxima por barco que el comprador puede elejir usualmente va hasta los 30 pasajeros, después de esto es más dificil encontrar fabricantes."
   ]
  },
  {
   "cell_type": "code",
   "execution_count": 39,
   "id": "09dbb1d8",
   "metadata": {},
   "outputs": [
    {
     "data": {
      "text/plain": [
       "<AxesSubplot:xlabel='passengers', ylabel='Density'>"
      ]
     },
     "execution_count": 39,
     "metadata": {},
     "output_type": "execute_result"
    },
    {
     "data": {
      "image/png": "[encoded data removed]",
      "text/plain": [
       "<Figure size 432x288 with 1 Axes>"
      ]
     },
     "metadata": {
      "needs_background": "light"
     },
     "output_type": "display_data"
    }
   ],
   "source": [
    "sns.distplot(df[\"passengers\"])"
   ]
  },
  {
   "cell_type": "markdown",
   "id": "10d460e7",
   "metadata": {},
   "source": [
    "### Insights 2: Countplot"
   ]
  },
  {
   "cell_type": "markdown",
   "id": "efc031ef",
   "metadata": {},
   "source": [
    "También se aprecia que los mayores fabricantes de barcos pertenecen a Carnival y Royal Caribbean"
   ]
  },
  {
   "cell_type": "code",
   "execution_count": 7,
   "id": "dc3ec87b",
   "metadata": {},
   "outputs": [
    {
     "data": {
      "text/plain": [
       "<AxesSubplot:xlabel='Cruise_line', ylabel='count'>"
      ]
     },
     "execution_count": 7,
     "metadata": {},
     "output_type": "execute_result"
    },
    {
     "data": {
      "image/png": "[encoded data removed]",
      "text/plain": [
       "<Figure size 432x288 with 1 Axes>"
      ]
     },
     "metadata": {},
     "output_type": "display_data"
    }
   ],
   "source": [
    "sns_context = sns.set_context(\"notebook\",font_scale=1)\n",
    "plt.xticks(rotation=90)\n",
    "sns.countplot(data = df, x = \"Cruise_line\")"
   ]
  },
  {
   "cell_type": "markdown",
   "id": "e7a923df",
   "metadata": {},
   "source": [
    "### Insight 3: Boxplot"
   ]
  },
  {
   "cell_type": "markdown",
   "id": "3d2b5ee1",
   "metadata": {},
   "source": [
    "Cunard y Royan Caribean son las lineas de embaraciones más grandes (lenght) y la más pequeña Windstar"
   ]
  },
  {
   "cell_type": "code",
   "execution_count": 45,
   "id": "c7fcbbb9",
   "metadata": {},
   "outputs": [
    {
     "data": {
      "image/png": "[encoded data removed]",
      "text/plain": [
       "<Figure size 432x288 with 1 Axes>"
      ]
     },
     "metadata": {},
     "output_type": "display_data"
    }
   ],
   "source": [
    "sns.boxplot(x= \"Cruise_line\", y = \"length\", data = df)\n",
    "plt.xticks(rotation=90)\n",
    "plt.show()"
   ]
  },
  {
   "cell_type": "markdown",
   "id": "a2db0292",
   "metadata": {},
   "source": [
    "   ### Elijiendo las variables significativas, matriz de correlación\n"
   ]
  },
  {
   "cell_type": "markdown",
   "id": "13d1ec5f",
   "metadata": {},
   "source": [
    "La siguiente matriz de correlación, muestra qué tan ajustados los datos están de una forma lineal, y descubrimos las variables que tienen incidencia sobre la variabilidad de la tripulación (Crew), estas son: \n",
    "- El peso de la nave (Tonnage)\n",
    "- La capacidad de pasajeros (Passengers)\n",
    "- El tamaño del barco (Lenght)\n",
    "- La cantidad de cabinas (Cabins)\n",
    "Estas variables tienen un coeficiente de correlación superior al 90%, por tal motivo usaremos estas variables para ajustar nuestros modelos y descartaremos los años de la nave y la densidad de pasajeros."
   ]
  },
  {
   "cell_type": "code",
   "execution_count": 107,
   "id": "d45c6f81",
   "metadata": {},
   "outputs": [
    {
     "data": {
      "image/png": "[encoded data removed]",
      "text/plain": [
       "<Figure size 432x288 with 2 Axes>"
      ]
     },
     "metadata": {},
     "output_type": "display_data"
    }
   ],
   "source": [
    "df_cor = df.corr()\n",
    "sns.heatmap(df_cor, annot = True, cmap = \"Blues\")\n",
    "plt.show()"
   ]
  },
  {
   "cell_type": "markdown",
   "id": "ad507d18",
   "metadata": {},
   "source": [
    "### Modelo 1: Regresión múltiple con Statsmodels"
   ]
  },
  {
   "cell_type": "markdown",
   "id": "d2cd221f",
   "metadata": {},
   "source": [
    "Ajustando un modelo linear múltiple a las variables mencionadas (Tonnage, passengers, lenght, cabins) encontramos que, estas variables explican el 92.4% (R^2) de la variabilidad del tamaño de la tripulación (Crew), además encontramos que la que más explica variabilidad es cabins, cada vez que aumentamos 1 cabina, se incrementa 1 persona (0.79) adicional para la tripulación.\n",
    "\n",
    "Sobre este modelo encontramos que las variables son significativas con un nivel de confianza del 95% (todas tienen p valor menor al 0.05)"
   ]
  },
  {
   "cell_type": "code",
   "execution_count": 60,
   "id": "dc2e0e88",
   "metadata": {
    "scrolled": false
   },
   "outputs": [
    {
     "data": {
      "text/html": [
       "<table class=\"simpletable\">\n",
       "<caption>OLS Regression Results</caption>\n",
       "<tr>\n",
       "  <th>Dep. Variable:</th>          <td>crew</td>       <th>  R-squared:         </th> <td>   0.924</td>\n",
       "</tr>\n",
       "<tr>\n",
       "  <th>Model:</th>                   <td>OLS</td>       <th>  Adj. R-squared:    </th> <td>   0.922</td>\n",
       "</tr>\n",
       "<tr>\n",
       "  <th>Method:</th>             <td>Least Squares</td>  <th>  F-statistic:       </th> <td>   465.3</td>\n",
       "</tr>\n",
       "<tr>\n",
       "  <th>Date:</th>             <td>Wed, 20 Jul 2022</td> <th>  Prob (F-statistic):</th> <td>1.67e-84</td>\n",
       "</tr>\n",
       "<tr>\n",
       "  <th>Time:</th>                 <td>20:20:40</td>     <th>  Log-Likelihood:    </th> <td> -218.16</td>\n",
       "</tr>\n",
       "<tr>\n",
       "  <th>No. Observations:</th>      <td>   158</td>      <th>  AIC:               </th> <td>   446.3</td>\n",
       "</tr>\n",
       "<tr>\n",
       "  <th>Df Residuals:</th>          <td>   153</td>      <th>  BIC:               </th> <td>   461.6</td>\n",
       "</tr>\n",
       "<tr>\n",
       "  <th>Df Model:</th>              <td>     4</td>      <th>                     </th>     <td> </td>   \n",
       "</tr>\n",
       "<tr>\n",
       "  <th>Covariance Type:</th>      <td>nonrobust</td>    <th>                     </th>     <td> </td>   \n",
       "</tr>\n",
       "</table>\n",
       "<table class=\"simpletable\">\n",
       "<tr>\n",
       "       <td></td>         <th>coef</th>     <th>std err</th>      <th>t</th>      <th>P>|t|</th>  <th>[0.025</th>    <th>0.975]</th>  \n",
       "</tr>\n",
       "<tr>\n",
       "  <th>const</th>      <td>   -0.8187</td> <td>    0.585</td> <td>   -1.400</td> <td> 0.164</td> <td>   -1.974</td> <td>    0.337</td>\n",
       "</tr>\n",
       "<tr>\n",
       "  <th>Tonnage</th>    <td>    0.0163</td> <td>    0.008</td> <td>    2.010</td> <td> 0.046</td> <td>    0.000</td> <td>    0.032</td>\n",
       "</tr>\n",
       "<tr>\n",
       "  <th>passengers</th> <td>   -0.1499</td> <td>    0.039</td> <td>   -3.863</td> <td> 0.000</td> <td>   -0.226</td> <td>   -0.073</td>\n",
       "</tr>\n",
       "<tr>\n",
       "  <th>length</th>     <td>    0.3976</td> <td>    0.113</td> <td>    3.503</td> <td> 0.001</td> <td>    0.173</td> <td>    0.622</td>\n",
       "</tr>\n",
       "<tr>\n",
       "  <th>cabins</th>     <td>    0.7908</td> <td>    0.087</td> <td>    9.079</td> <td> 0.000</td> <td>    0.619</td> <td>    0.963</td>\n",
       "</tr>\n",
       "</table>\n",
       "<table class=\"simpletable\">\n",
       "<tr>\n",
       "  <th>Omnibus:</th>       <td>140.703</td> <th>  Durbin-Watson:     </th> <td>   1.829</td>\n",
       "</tr>\n",
       "<tr>\n",
       "  <th>Prob(Omnibus):</th> <td> 0.000</td>  <th>  Jarque-Bera (JB):  </th> <td>2601.251</td>\n",
       "</tr>\n",
       "<tr>\n",
       "  <th>Skew:</th>          <td> 3.098</td>  <th>  Prob(JB):          </th> <td>    0.00</td>\n",
       "</tr>\n",
       "<tr>\n",
       "  <th>Kurtosis:</th>      <td>21.888</td>  <th>  Cond. No.          </th> <td>    642.</td>\n",
       "</tr>\n",
       "</table><br/><br/>Notes:<br/>[1] Standard Errors assume that the covariance matrix of the errors is correctly specified."
      ],
      "text/plain": [
       "<class 'statsmodels.iolib.summary.Summary'>\n",
       "\"\"\"\n",
       "                            OLS Regression Results                            \n",
       "==============================================================================\n",
       "Dep. Variable:                   crew   R-squared:                       0.924\n",
       "Model:                            OLS   Adj. R-squared:                  0.922\n",
       "Method:                 Least Squares   F-statistic:                     465.3\n",
       "Date:                Wed, 20 Jul 2022   Prob (F-statistic):           1.67e-84\n",
       "Time:                        20:20:40   Log-Likelihood:                -218.16\n",
       "No. Observations:                 158   AIC:                             446.3\n",
       "Df Residuals:                     153   BIC:                             461.6\n",
       "Df Model:                           4                                         \n",
       "Covariance Type:            nonrobust                                         \n",
       "==============================================================================\n",
       "                 coef    std err          t      P>|t|      [0.025      0.975]\n",
       "------------------------------------------------------------------------------\n",
       "const         -0.8187      0.585     -1.400      0.164      -1.974       0.337\n",
       "Tonnage        0.0163      0.008      2.010      0.046       0.000       0.032\n",
       "passengers    -0.1499      0.039     -3.863      0.000      -0.226      -0.073\n",
       "length         0.3976      0.113      3.503      0.001       0.173       0.622\n",
       "cabins         0.7908      0.087      9.079      0.000       0.619       0.963\n",
       "==============================================================================\n",
       "Omnibus:                      140.703   Durbin-Watson:                   1.829\n",
       "Prob(Omnibus):                  0.000   Jarque-Bera (JB):             2601.251\n",
       "Skew:                           3.098   Prob(JB):                         0.00\n",
       "Kurtosis:                      21.888   Cond. No.                         642.\n",
       "==============================================================================\n",
       "\n",
       "Notes:\n",
       "[1] Standard Errors assume that the covariance matrix of the errors is correctly specified.\n",
       "\"\"\""
      ]
     },
     "execution_count": 60,
     "metadata": {},
     "output_type": "execute_result"
    }
   ],
   "source": [
    "import statsmodels.api as sm\n",
    "y = df[\"crew\"]\n",
    "x1 = df[[\"Tonnage\", \"passengers\", \"length\", \"cabins\"]] \n",
    "\n",
    "#intercepto:\n",
    "b = sm.add_constant(x1)\n",
    "#OLS\n",
    "resultado = sm.OLS(y,b).fit()\n",
    "resultado.summary()"
   ]
  },
  {
   "cell_type": "markdown",
   "id": "58564d05",
   "metadata": {},
   "source": [
    "## Entrenando el modelo y agregando one hot encoding (sklearn)"
   ]
  },
  {
   "cell_type": "markdown",
   "id": "8240b1d3",
   "metadata": {},
   "source": [
    "El one hot encoding permite reconocer a las variables categóricas como dummies para revisar el efecto idiosincrático o de técnología que tendría cada uno de los fabricantes"
   ]
  },
  {
   "cell_type": "code",
   "execution_count": 71,
   "id": "7d10eb1e",
   "metadata": {},
   "outputs": [],
   "source": [
    "from sklearn.preprocessing import OneHotEncoder"
   ]
  },
  {
   "cell_type": "code",
   "execution_count": 86,
   "id": "4d5da4f2",
   "metadata": {},
   "outputs": [],
   "source": [
    "#Creación del datagframe2, pero la varialbe Cruise_line recibe one hot encondingn\n",
    "df2 = pd.get_dummies(df[[\"Cruise_line\", \"Tonnage\", \"passengers\", \"length\", \"cabins\",\"crew\"]])\n",
    "df2"
   ]
  },
  {
   "cell_type": "markdown",
   "id": "fb982970",
   "metadata": {},
   "source": [
    "### Conjuntos de entrenamiento y prueba"
   ]
  },
  {
   "cell_type": "code",
   "execution_count": 109,
   "id": "c3555ffb",
   "metadata": {},
   "outputs": [],
   "source": [
    "from sklearn.model_selection import train_test_split\n",
    "\n",
    "X = df[cols].iloc[:,0:4].values     \n",
    "y = df[cols][\"crew\"]\n",
    "\n",
    "X_train, X_test, y_train, y_test = train_test_split( X, y, test_size=0.4, random_state=0) \n",
    "#el estado aleatoreo 0 representa la semilla para que nos dé siempre el mismo resultado"
   ]
  },
  {
   "cell_type": "code",
   "execution_count": 110,
   "id": "4e6fbc78",
   "metadata": {},
   "outputs": [],
   "source": [
    "from sklearn.linear_model import LinearRegression\n",
    "slr = LinearRegression()\n",
    "\n",
    "slr.fit(X_train, y_train)\n",
    "y_train_pred = slr.predict(X_train)\n",
    "y_test_pred = slr.predict(X_test)"
   ]
  },
  {
   "cell_type": "markdown",
   "id": "63ef397b",
   "metadata": {},
   "source": [
    "### Test de residuales"
   ]
  },
  {
   "cell_type": "markdown",
   "id": "c956c869",
   "metadata": {},
   "source": [
    "Aquí comprobamos dos cosas, que los residuales son homogeneos al rededor de una media y que se comportan iguales en el set de entrenamiento y en el set de test"
   ]
  },
  {
   "cell_type": "code",
   "execution_count": 120,
   "id": "782bf47d",
   "metadata": {
    "scrolled": true
   },
   "outputs": [
    {
     "data": {
      "image/png": "[encoded data removed]",
      "text/plain": [
       "<Figure size 432x288 with 1 Axes>"
      ]
     },
     "metadata": {},
     "output_type": "display_data"
    }
   ],
   "source": [
    "plt.scatter(y_train_pred,  y_train_pred - y_train,\n",
    "            c=\"red\", marker=\"o\", edgecolor=\"white\",\n",
    "            label=\"Datos de entrenamiento\")\n",
    "\n",
    "plt.scatter(y_test_pred,  y_test_pred - y_test,\n",
    "            c=\"blue\", marker=\"s\", edgecolor=\"white\",\n",
    "            label=\"Datos de test\")\n",
    "\n",
    "plt.xlabel(\"Valores predecidos\")\n",
    "plt.ylabel(\"Residuales\")\n",
    "#plt.legend(loc='upper left')\n",
    "plt.hlines(y=0, xmin=-10, xmax=50, color=\"black\", lw=2)\n",
    "#plt.xlim([-10, 50])\n",
    "#plt.tight_layout()\n",
    "plt.legend(loc= \"lower right\")\n",
    "\n",
    "plt.show()"
   ]
  },
  {
   "cell_type": "markdown",
   "id": "0a7d3c27",
   "metadata": {},
   "source": [
    "### Coeficiente de Person para el set de entrenamiento y test"
   ]
  },
  {
   "cell_type": "code",
   "execution_count": 127,
   "id": "47e980a7",
   "metadata": {},
   "outputs": [
    {
     "name": "stdout",
     "output_type": "stream",
     "text": [
      "Person para el set de entrenamiento: 0.920\n",
      "Person para el set de test: 0.928\n"
     ]
    }
   ],
   "source": [
    "from sklearn.metrics import r2_score\n",
    "from sklearn.metrics import mean_squared_error\n",
    "      \n",
    "print(\"Person para el set de entrenamiento: %.3f\" % r2_score(y_train, y_train_pred))\n",
    "print(\"Person para el set de test: %.3f\" % r2_score(y_test, y_test_pred))\n"
   ]
  },
  {
   "cell_type": "markdown",
   "id": "d1f7004f",
   "metadata": {},
   "source": [
    "### Coeficientes de la regresión"
   ]
  },
  {
   "cell_type": "markdown",
   "id": "2d43731d",
   "metadata": {},
   "source": [
    "Finalmente la regresión dependerá de: Tonnage\", \"passengers\", \"length\", \"cabins\". Sus respectivos coeficientes serán:\n",
    "- Tonnage: 0.01902703\n",
    "- passengers: -0.15001099\n",
    "- length: 0.37876395\n",
    "- cabins: 0.77613801\n",
    "\n",
    "Estos arrojan valores similares al primer modelo y de nuevo se explica que una cabina adicional hace que se necesiten en promedio 1 personal de tripulación demás."
   ]
  },
  {
   "cell_type": "code",
   "execution_count": 122,
   "id": "e532aa3b",
   "metadata": {},
   "outputs": [
    {
     "data": {
      "text/plain": [
       "-0.7525074496158357"
      ]
     },
     "execution_count": 122,
     "metadata": {},
     "output_type": "execute_result"
    }
   ],
   "source": [
    "b0= slr.fit(X_train, y_train).intercept_\n",
    "b0 #intercepto, en promedio no se necesitan personas de tripulación en los barcos más pequeños, es decir que solo el pasajero podría hacer uso"
   ]
  },
  {
   "cell_type": "code",
   "execution_count": 129,
   "id": "f0a23bac",
   "metadata": {},
   "outputs": [
    {
     "data": {
      "text/plain": [
       "array([ 0.01902703, -0.15001099,  0.37876395,  0.77613801])"
      ]
     },
     "execution_count": 129,
     "metadata": {},
     "output_type": "execute_result"
    }
   ],
   "source": [
    "#coeficientes\n",
    "coef = slr.fit(X_train, y_train).coef_\n",
    "slr.fit(X_train, y_train).coef_ "
   ]
  },
  {
   "cell_type": "markdown",
   "id": "a74a3d4a",
   "metadata": {},
   "source": [
    "***"
   ]
  },
  {
   "cell_type": "markdown",
   "id": "2211722e",
   "metadata": {},
   "source": [
    "### Conclusiones"
   ]
  },
  {
   "cell_type": "markdown",
   "id": "a2781a2c",
   "metadata": {},
   "source": [
    "Los compradores de barcos tienen que pensar primero en cuántas cabinas necesitan, qué tan grande necesitan el barco y la cantidad de pasajeros para estimar el número total de tripulación (Crew) necesaria.\n",
    "Por ejemplo:"
   ]
  },
  {
   "cell_type": "code",
   "execution_count": 130,
   "id": "c7d1fc04",
   "metadata": {},
   "outputs": [
    {
     "data": {
      "text/plain": [
       "10.56630616"
      ]
     },
     "execution_count": 130,
     "metadata": {},
     "output_type": "execute_result"
    }
   ],
   "source": [
    "Peso_del_barco_en_toneladas = 2\n",
    "peso_coef = 0.01902703\n",
    "\n",
    "pasajeros = 10\n",
    "pas_coef = -0.15001099\n",
    "\n",
    "cabinas = 3\n",
    "cab_coef = 0.37876395\n",
    "\n",
    "tamaño_en_metros = 15\n",
    "tam_coef = 0.77613801\n",
    "\n",
    "\n",
    "\n",
    "b0 = -0.75\n",
    "crew = b0 + Peso_del_barco_en_toneladas*peso_coef +pasajeros*pas_coef + cabinas*cab_coef + tamaño_en_metros*tam_coef \n",
    "crew"
   ]
  },
  {
   "cell_type": "markdown",
   "id": "5404d865",
   "metadata": {},
   "source": [
    "Un cliente que necesite un barco de 2 toneladas, 10 pasajeros, 3 cabinas, y que sea de 15 metros de largo necesitará 10 u 11 personal de tripulación"
   ]
  }
 ],
 "metadata": {
  "kernelspec": {
   "display_name": "Python 3 (ipykernel)",
   "language": "python",
   "name": "python3"
  },
  "language_info": {
   "codemirror_mode": {
    "name": "ipython",
    "version": 3
   },
   "file_extension": ".py",
   "mimetype": "text/x-python",
   "name": "python",
   "nbconvert_exporter": "python",
   "pygments_lexer": "ipython3",
   "version": "3.9.12"
  }
 },
 "nbformat": 4,
 "nbformat_minor": 5
}
